{
 "cells": [
  {
   "cell_type": "code",
   "execution_count": null,
   "id": "998c07dd",
   "metadata": {},
   "outputs": [
    {
     "name": "stdout",
     "output_type": "stream",
     "text": [
      "1\n",
      "11\n"
     ]
    }
   ],
   "source": [
    "import copy \n",
    "l = [1,2,3]\n",
    "x = {'a':l}\n",
    "y = copy.copy(x)\n",
    "#y = copy.copy(x)\n",
    "y['a'][0] = 11 \n",
    "print(x['a'][0])\n",
    "print(y['a'][0])"
   ]
  },
  {
   "cell_type": "code",
   "execution_count": null,
   "id": "7ab2f99f",
   "metadata": {},
   "outputs": [],
   "source": [
    "import copy \n",
    "l = [1,2,3]\n",
    "x = {'a':l}\n",
    "y = copy.deepcopy(x)\n",
    "#y = copy.copy(x)\n",
    "y['a'][0] = 11 \n",
    "print(x['a'][0])\n",
    "print(y['a'][0])"
   ]
  },
  {
   "cell_type": "code",
   "execution_count": 3,
   "id": "5e4fb2b9",
   "metadata": {},
   "outputs": [
    {
     "name": "stdout",
     "output_type": "stream",
     "text": [
      "[1]\n",
      "[1, 1]\n"
     ]
    }
   ],
   "source": [
    "def fast(items = []):\n",
    "    items.append(1)\n",
    "    return items\n",
    "\n",
    "print(fast())\n",
    "print(fast())"
   ]
  }
 ],
 "metadata": {
  "kernelspec": {
   "display_name": "vnpy",
   "language": "python",
   "name": "python3"
  },
  "language_info": {
   "codemirror_mode": {
    "name": "ipython",
    "version": 3
   },
   "file_extension": ".py",
   "mimetype": "text/x-python",
   "name": "python",
   "nbconvert_exporter": "python",
   "pygments_lexer": "ipython3",
   "version": "3.12.11"
  }
 },
 "nbformat": 4,
 "nbformat_minor": 5
}
